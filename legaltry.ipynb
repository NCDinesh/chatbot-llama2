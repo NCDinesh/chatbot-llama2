{
 "cells": [
  {
   "cell_type": "code",
   "execution_count": 34,
   "id": "0b45b61a-ca07-46a3-8df5-b376d89d0319",
   "metadata": {},
   "outputs": [],
   "source": [
    "from PyPDF2 import PdfReader\n",
    "from langchain.embeddings import HuggingFaceEmbeddings\n",
    "from langchain.chains.question_answering import load_qa_chain\n",
    "from langchain.schema.runnable import RunnablePassthrough\n",
    "from langchain.prompts import PromptTemplate\n",
    "from langchain.document_loaders import PyPDFLoader\n",
    "from langchain.text_splitter import CharacterTextSplitter\n",
    "from langchain.vectorstores import Chroma\n",
    "from langchain.schema import StrOutputParser\n",
    "import joblib\n",
    "import os\n",
    "from langchain_community.llms import CTransformers\n",
    "import time\n",
    "from langchain.prompts import PromptTemplate\n"
   ]
  },
  {
   "cell_type": "code",
   "execution_count": 117,
   "id": "d5036dd6-b7d0-4104-94d6-be172d4adac5",
   "metadata": {},
   "outputs": [],
   "source": [
    "config = {\n",
    "        'max_new_tokens': 500,  # Adjusted to potentially reduce response time\n",
    "        'temperature': 0.7,     # Adjusted for more coherent responses\n",
    "        'context_length' : 2048\n",
    "}\n",
    "\n",
    "    # Initialize the model\n",
    "llm = CTransformers(\n",
    "        model='models/llama-2-7b-chat.ggmlv3.q2_K.bin',\n",
    "        model_type='llama',\n",
    "        config=config\n",
    "    )\n"
   ]
  },
  {
   "cell_type": "code",
   "execution_count": 118,
   "id": "b7a3412e-5471-419b-8d7b-db8c53478276",
   "metadata": {},
   "outputs": [],
   "source": [
    "import warnings\n",
    "warnings.filterwarnings('ignore')"
   ]
  },
  {
   "cell_type": "code",
   "execution_count": 119,
   "id": "935d4120-01ff-446b-9663-f4822ada79a3",
   "metadata": {},
   "outputs": [],
   "source": [
    "template = \"\"\"\n",
    "<s>[INST] <<SYS>>\n",
    "You are a helpful AI assistant who has to act as advocate.\n",
    "Answer based on the context provided. Don't answer unnecessarily if you dont find the context.\n",
    "<</SYS>>\n",
    "{context}\n",
    "Question: {question}\n",
    "Helpful Answer: [/INST]\n",
    "\"\"\""
   ]
  },
  {
   "cell_type": "code",
   "execution_count": 120,
   "id": "6a08f92f-d93b-4cc0-809e-fdc8aec09185",
   "metadata": {},
   "outputs": [],
   "source": [
    "prompt = PromptTemplate.from_template(template)"
   ]
  },
  {
   "cell_type": "code",
   "execution_count": 131,
   "id": "8ab6dda8-1c6d-4eb5-b22e-061728e874b3",
   "metadata": {},
   "outputs": [],
   "source": [
    "reader = PdfReader('data/fine_tune_data.pdf')\n",
    "# reader1= PdfReader('data/constitution_nowater.pdf')"
   ]
  },
  {
   "cell_type": "code",
   "execution_count": 132,
   "id": "dd8ec4ad-1c5e-4b4a-b615-7a0c0b308251",
   "metadata": {},
   "outputs": [],
   "source": [
    "raw_text = ''\n",
    "for i, page in enumerate(reader.pages):\n",
    "    text = page.extract_text()\n",
    "    if text:\n",
    "        raw_text += text\n",
    "\n",
    "# for i, page in enumerate(reader1.pages):\n",
    "#     text = page.extract_text()\n",
    "#     if text:\n",
    "#         raw_text += text\n"
   ]
  },
  {
   "cell_type": "code",
   "execution_count": 133,
   "id": "02b9a6be-7b2f-4ced-b4d3-f7c8a0f937b3",
   "metadata": {},
   "outputs": [],
   "source": [
    "text_splitter = CharacterTextSplitter(        \n",
    "    separator = \"\\n\",\n",
    "    chunk_size = 350,\n",
    "    chunk_overlap  = 20,\n",
    "    length_function = len,\n",
    ")\n",
    "texts = text_splitter.split_text(raw_text)"
   ]
  },
  {
   "cell_type": "code",
   "execution_count": 134,
   "id": "0f02100a-c7b6-411d-a99a-d6bec567032e",
   "metadata": {},
   "outputs": [],
   "source": [
    "embeddings_file = \"./data/cases_genderviolence.joblib\"\n",
    "if os.path.exists(embeddings_file):\n",
    "    embeddings = joblib.load(embeddings_file)\n",
    "else:\n",
    "    embeddings = HuggingFaceEmbeddings()\n",
    "    joblib.dump(embeddings, embeddings_file)"
   ]
  },
  {
   "cell_type": "code",
   "execution_count": 135,
   "id": "b1061a85-dedc-49aa-9035-fbfbfade6cb3",
   "metadata": {},
   "outputs": [],
   "source": [
    "vectorstore = Chroma.from_texts(texts, embeddings)"
   ]
  },
  {
   "cell_type": "code",
   "execution_count": 136,
   "id": "44c4fc17-22fb-4d5c-b7c0-277dc6615997",
   "metadata": {},
   "outputs": [],
   "source": [
    "retriever = vectorstore.as_retriever()"
   ]
  },
  {
   "cell_type": "code",
   "execution_count": 137,
   "id": "6d824b06-9ace-4b3a-9a16-e0ba710aeeed",
   "metadata": {},
   "outputs": [],
   "source": [
    "chain = (\n",
    "    {\"context\": retriever, \"question\": RunnablePassthrough()} \n",
    "    | prompt \n",
    "    | llm \n",
    ")"
   ]
  },
  {
   "cell_type": "code",
   "execution_count": 138,
   "id": "810e14ff-f8c1-44d4-9645-a8806f3588cd",
   "metadata": {},
   "outputs": [],
   "source": [
    "query=\"My teacher keeps on making physical contact with me intentionally.What could i do?\""
   ]
  },
  {
   "cell_type": "code",
   "execution_count": 139,
   "id": "853b17b7-52cd-45de-8310-5b34a0f1baac",
   "metadata": {},
   "outputs": [
    {
     "data": {
      "text/plain": [
       "[Document(page_content='Chapter on Harassment, Section 223.  For the offence of Sexual Assault: Unwanted sexual contact, the punishment is Up to 10 years \\nimprisonment and a fine of up to NPR 100,000 according to the sect ion of Muluki Ain (General Code), \\nChapter on Sexual Offenses, Section 221.'),\n",
       " Document(page_content='Chapter on Harassment, Section 223.  For the offence of Sexual Assault: Unwanted sexual contact, the punishment is Up to 10 years \\nimprisonment and a fine of up to NPR 100,000 according to the sect ion of Muluki Ain (General Code), \\nChapter on Sexual Offenses, Section 221.'),\n",
       " Document(page_content='For the offence of Sexual Harassment: Unwelcome sexual advances, requests for sexual favors, and \\nother verbal or physical harassment of a sexual nature, the punishment is Up to 3 years impri sonment \\nand a fine of up to NPR 30,000 according to the section of Sexual Harassment at Workplace Prevention \\nAct, 2015, Section 5.'),\n",
       " Document(page_content='For the offence of Sexual Harassment: Unwelcome sexual advances, requests for sexual favors, and \\nother verbal or physical harassment of a sexual nature, the punishment is Up to 3 years impri sonment \\nand a fine of up to NPR 30,000 according to the section of Sexual Harassment at Workplace Prevention \\nAct, 2015, Section 5.')]"
      ]
     },
     "execution_count": 139,
     "metadata": {},
     "output_type": "execute_result"
    }
   ],
   "source": [
    "retriever.get_relevant_documents(query)\n"
   ]
  },
  {
   "cell_type": "code",
   "execution_count": 140,
   "id": "ca6a0d0e-c062-448d-8edf-e67fcb4485b6",
   "metadata": {},
   "outputs": [
    {
     "name": "stdout",
     "output_type": "stream",
     "text": [
      "I'm so sorry to hear that you're going through this difficult situation. It's important to remember that no one has the right to touch or make physical contact with you without your consent, and it's completely okay to stand up for yourself in situations like this. Here are some steps you can take:\n",
      "\n",
      "1. Tell a trusted adult: If you feel uncomfortable talking to your teacher directly, you can tell a trusted adult such as a school administrator, counselor, or parent about the situation. They can provide support and help address the issue.\n",
      "2. Seek support from classmates: You may also want to talk to other students in your class who may have experienced similar situations. It can be helpful to know that you're not alone and that there are people who care about you and want to help.\n",
      "3. Consider reporting the incident: If you feel comfortable, you can report the incident to the appropriate authorities. In many places, there are laws in place to protect people from sexual harassment and assault, and you may be able to seek legal action against your teacher.\n",
      "\n",
      "Remember, you have the right to control your own body and to make decisions about how you want to be treated. You don't deserve to be touched without your consent, and it's important to prioritize your own well-being and safety. Don't hesitate to reach out for help if you need it – there are people who care about you and want to support you through this difficult situation.\n",
      "Response time: 136.29 seconds\n"
     ]
    }
   ],
   "source": [
    "start_time = time.time()\n",
    "print(chain.invoke(query))\n",
    "end_time = time.time()\n",
    "print(f\"Response time: {end_time - start_time:.2f} seconds\")"
   ]
  },
  {
   "cell_type": "code",
   "execution_count": null,
   "id": "36726efb-e1c9-48b2-8971-745f5e935cf7",
   "metadata": {},
   "outputs": [],
   "source": []
  }
 ],
 "metadata": {
  "kernelspec": {
   "display_name": "Python 3 (ipykernel)",
   "language": "python",
   "name": "python3"
  },
  "language_info": {
   "codemirror_mode": {
    "name": "ipython",
    "version": 3
   },
   "file_extension": ".py",
   "mimetype": "text/x-python",
   "name": "python",
   "nbconvert_exporter": "python",
   "pygments_lexer": "ipython3",
   "version": "3.11.9"
  }
 },
 "nbformat": 4,
 "nbformat_minor": 5
}
